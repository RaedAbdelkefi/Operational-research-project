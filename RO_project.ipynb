{
  "nbformat": 4,
  "nbformat_minor": 0,
  "metadata": {
    "colab": {
      "provenance": [],
      "include_colab_link": true
    },
    "kernelspec": {
      "name": "python3",
      "display_name": "Python 3"
    },
    "language_info": {
      "name": "python"
    },
    "gpuClass": "standard"
  },
  "cells": [
    {
      "cell_type": "markdown",
      "metadata": {
        "id": "view-in-github",
        "colab_type": "text"
      },
      "source": [
        "<a href=\"https://colab.research.google.com/github/RaedAbdelkefi/Operational-research-project/blob/main/RO_project.ipynb\" target=\"_parent\"><img src=\"https://colab.research.google.com/assets/colab-badge.svg\" alt=\"Open In Colab\"/></a>"
      ]
    },
    {
      "cell_type": "markdown",
      "source": [
        "# Operational Research Project:Genetic Algorithm for Optimization of Supply Chain Logistics Network\n",
        "\n",
        "##Elaborated by :\n",
        "* Raed Abdelkafi\n",
        "* Mohamed Bechir Maarfi\n",
        "\n",
        "##Supervised by :\n",
        "* Mr Yassine Hachaichi\n",
        "\n"
      ],
      "metadata": {
        "id": "J_2_8B9_-Zq0"
      }
    },
    {
      "cell_type": "markdown",
      "source": [
        "# Introduction\n",
        "\n",
        "This project is part of the module \"Operations Research\". The main purpose of this notebook is to create  **a Genetic Algorithm for Optimization of Supply Chain Logistics Network**. Supply chain is a dynamic, stochastic and complex system. Supply Chain logistics is a network of facilities and distribution options that performs the function of procurement of materials, transformation of these materials into intermediate and finished products, and distribution of these finished products to customers. The performance of any particular participant in a supply chain **depends largely on the behavior of other participants**.\n",
        "\n",
        "In this project, we will deal with a two-echelon Supply chain. We will first come by the definition of some key words of the general context. Then, we will implement the code of the algorithm an discuss the results."
      ],
      "metadata": {
        "id": "fe_YLRRL0O_v"
      }
    },
    {
      "cell_type": "markdown",
      "source": [
        "# 1. General Context\n",
        "##1.1 Definitions\n",
        "Before we enter in the details of the algorithm, it is necessary to give a quick description of **Genetic Algorithms** as well as an overview of the terms that will be used in the rest of the notbook.\n",
        "\n",
        "To start with, A genetic algorithm is a computational optimization technique inspired by the process of natural selection and evolution. It uses a population of candidate solutions, applies genetic operators such as mutation and crossover, and iteratively evolves the population to find an optimal or near-optimal solution to a given problem.\n",
        "\n",
        "Moving on to defining the key words of the Supply chain. First of all, a two- stage supply chain logistics network corresponds to the case of a link between Production Plants and Distributers, and another link between Distributers and Retailers. The figure below resumes this:\n",
        "\n",
        "\n",
        "\n"
      ],
      "metadata": {
        "id": "duEKwDuZ1nhr"
      }
    },
    {
      "cell_type": "markdown",
      "source": [
        "![twostage.png](data:image/png;base64,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)"
      ],
      "metadata": {
        "id": "VzGoKcvw5nty"
      }
    },
    {
      "cell_type": "markdown",
      "source": [
        "\n",
        "##1.2 Mathematical description\n",
        "\n",
        "The supply chain logistic network problem is formulated mathematically as a linear\n",
        "programming model. This model aims to minimize the sum of the costs to transport items from\n",
        "plants to distributors and from distributors to retailers along with cost of manufacturing."
      ],
      "metadata": {
        "id": "PD6I-hyf5Ux0"
      }
    },
    {
      "cell_type": "markdown",
      "source": [
        "Indices\n",
        "\n",
        "*   i Number of Retailers, i ∈ {1,2,…I}\n",
        "*   j Number of Distribution Centers, j ∈ {1,2,…J}\n",
        "*   k Number of Plants, k∈ {1,2…K}\n",
        "\n",
        "\n",
        "\n",
        "Variables\n",
        "\n",
        "\n",
        "*   X<sub>kj</sub> Quantity that is to be shipped from Plant k to Distributor j\n",
        "*   Y<sub>ji</sub> Quantity that is to be shipped from Distributor j to Retailer i\n",
        "\n",
        "Parameters\n",
        "\n",
        "\n",
        "*   I<sub>d</sub> Demand of Retailers i\n",
        "\n",
        "*   C<sub>k</sub> Capacity of Plant k\n",
        "*   C<sub>kj</sub> Unit transportation costs from Plant k to Distributor j\n",
        "\n",
        "*   W<sub>ji</sub> Unit transportation cost from Distributor j to Retailer i\n",
        "\n",
        "Constants\n",
        "*   P<sub>r</sub> Production cost per unit\n",
        "\n",
        "\n",
        "\n",
        "The objective is to **Minimize**  $$\n",
        "\\sum_{k} \\sum_{j} C_{kj} X_{kj} + \\sum_{i} \\sum_{j} W_{ji} Y_{ji} + P_r\\sum_{k} \\sum_{j} X_{kj}\n",
        "$$\n",
        "\n",
        "Subject to:\n",
        "• Quantity transported from any plant to all distributor should be less than or equal to the\n",
        "capacity of that plant and could be given as\n",
        "$$ \\sum_{k} \\sum_{j} X_{kj} ≤ C_k ,\\quad for\\quad all \\quad j, k.$$\n",
        "• The total amount that enter the distributor should leave the distributor\n",
        "$$ \\sum_{k} \\sum_{j} X_{kj} - \\sum_{i} \\sum_{j} Y_{ji} =0 ,\\quad for\\quad all \\quad i, j, k.$$\n",
        "• Quantity shipped from the distributor to retailer should not be less than the demand of the\n",
        "retailers and could be given as\n",
        "$$ \\sum_{i} \\sum_{j} Y_{ji} ≥ I_d ,\\quad for\\quad all \\quad i, j$$\n",
        "• All decision variables are non-negative\n",
        "$$ X_{kj}, Y_{ji} ≥ 0,\\quad for\\quad all \\quad i, j, k.$$"
      ],
      "metadata": {
        "id": "8GJZhPV6wg_v"
      }
    },
    {
      "cell_type": "markdown",
      "source": [
        "#2. Implementation\n",
        "## 2.1 Environement Initialisation"
      ],
      "metadata": {
        "id": "xQiIBasT53TQ"
      }
    },
    {
      "cell_type": "code",
      "source": [
        "!pip install pulp"
      ],
      "metadata": {
        "colab": {
          "base_uri": "https://localhost:8080/"
        },
        "id": "whv3sRPgB1CO",
        "outputId": "5d380a6a-eca9-4dfd-a84b-b4b05146fa2d"
      },
      "execution_count": null,
      "outputs": [
        {
          "output_type": "stream",
          "name": "stdout",
          "text": [
            "Looking in indexes: https://pypi.org/simple, https://us-python.pkg.dev/colab-wheels/public/simple/\n",
            "Requirement already satisfied: pulp in /usr/local/lib/python3.10/dist-packages (2.7.0)\n"
          ]
        }
      ]
    },
    {
      "cell_type": "code",
      "execution_count": null,
      "metadata": {
        "id": "KfK---wJz9FZ"
      },
      "outputs": [],
      "source": [
        "import random\n",
        "import numpy as np\n",
        "import random\n",
        "from pulp import *\n",
        "import numpy as np\n",
        "from scipy.optimize import linprog\n",
        "import matplotlib.pyplot as plt"
      ]
    },
    {
      "cell_type": "markdown",
      "source": [
        "## 2.2 Genetic Algorithm"
      ],
      "metadata": {
        "id": "oVbS2crQ6DjO"
      }
    },
    {
      "cell_type": "markdown",
      "source": [
        "###2.2.1 Initialisation of the Population P<sub>0</sub>\n",
        "\n",
        "The first step in a GA is the initialisation of a population of n chromosomes with random numbers, but still respecting the different constraints of the problem (Capacity and Demand). The integer n should not be less than twice the length of the chromosome, which is (k*j +j*i).\n",
        "\n",
        "The architecture of a chromosome for 2 plants, 2 distributers and 3 retailers is given in the figure below:\n"
      ],
      "metadata": {
        "id": "q2eHqmC6_dBI"
      }
    },
    {
      "cell_type": "markdown",
      "source": [
        "![chr.png](data:image/png;base64,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)\n",
        "\n",
        "\n"
      ],
      "metadata": {
        "id": "CWJRpizTAonl"
      }
    },
    {
      "cell_type": "markdown",
      "source": [
        "### <center>Figure 2: Coding of a chromosome for a GA</center>"
      ],
      "metadata": {
        "id": "SMOHs66WbSHL"
      }
    },
    {
      "cell_type": "markdown",
      "source": [
        "Where\n",
        "\n",
        "*   P<sub>kj</sub> is the quantity to be shipped from plant k to distributer j\n",
        "*   R<sub>ji</sub> is the quantity to be shipped from distributer j to retailer i\n",
        "\n",
        "\n",
        "\n",
        "\n"
      ],
      "metadata": {
        "id": "wDxZq8XvAo8x"
      }
    },
    {
      "cell_type": "code",
      "source": [
        "# This function generates the first part of a chromosome,Quantity that is to be shipped from Plant k to distributor j.\n",
        "\n",
        "def genL(k,j,constraint):\n",
        "\n",
        "  \"\"\"\n",
        "  Parameters:\n",
        "    k number of plants\n",
        "    j number of distributers\n",
        "    constraint is a list of capacity constraints for k plants\n",
        "\n",
        "  \"\"\"\n",
        "\n",
        "  L=list()\n",
        "  const=constraint\n",
        "\n",
        "  for n in range(k):\n",
        "    for qte in range(j*n,n*j+j):\n",
        "      if qte==j*(n+1)-1 :\n",
        "        L.append(const[n])\n",
        "      else:\n",
        "        L.append(random.randint(0,const[n]))\n",
        "        const[n]-=L[qte]\n",
        "  return L"
      ],
      "metadata": {
        "id": "SAhHrGIK0BKE"
      },
      "execution_count": null,
      "outputs": []
    },
    {
      "cell_type": "code",
      "source": [
        "#This function generates the second part of a chromosome, the quantity that is to be shipped from distributor j to retailer i.\n",
        "\n",
        "def genL2(j,i,constraint):\n",
        "\n",
        "  \"\"\"\n",
        "  Parameters:\n",
        "    i number of retailers\n",
        "    j number of distributers\n",
        "    constraint is a list of demand constraints for i retailers\n",
        "\n",
        "  \"\"\"\n",
        "  L=[0]*(i*j)\n",
        "  const=constraint\n",
        "\n",
        "\n",
        "  for n in range(i):\n",
        "    for qte in range(n,i*j,i):\n",
        "      if qte>=j*i-i :\n",
        "        L[qte]=const[n]\n",
        "      else:\n",
        "        L[qte]=random.randint(0,const[n])\n",
        "        const[n]-=L[qte]\n",
        "  return L"
      ],
      "metadata": {
        "id": "g2Tv6iobeA3O"
      },
      "execution_count": null,
      "outputs": []
    },
    {
      "cell_type": "markdown",
      "source": [
        "###2.2.2 Verification of the feasability of each chromosome\n"
      ],
      "metadata": {
        "id": "8DgBm7nIkJm_"
      }
    },
    {
      "cell_type": "code",
      "source": [
        "def generate(Id,C,i,j,k):\n",
        "\n",
        "  \"\"\"\n",
        "  Parameters:\n",
        "    i number of retailers\n",
        "    j number of distributers\n",
        "    k number of plants\n",
        "    Id is a list of demand constraints for i retailers\n",
        "    C is a list of capacity constraints for k plants\n",
        "\n",
        "  \"\"\"\n",
        "\n",
        "  A=np.zeros((i+k+2,i*j+j*k))\n",
        "  for c1 in range(i):\n",
        "    for c2 in range(j):\n",
        "      A[c1][c2+c1*j]=1\n",
        "  for c2 in range(i*j):\n",
        "    A[j][c2]=1\n",
        "    A[j+1][c2]=-1\n",
        "  for c2 in range(i*j,i*j+j*k):\n",
        "    A[j][c2]=-1\n",
        "    A[j+1][c2]=1\n",
        "  for c1 in range(i+2,i+2+j+1):\n",
        "    for c2 in range(i*j,i*j+j*k,k):\n",
        "      A[c1][c2+(c1-i-2)]=-1\n",
        "  b=np.concatenate((C,np.array([0,0]),-Id))\n",
        "  return A,b"
      ],
      "metadata": {
        "id": "18u1C1w-kdWP"
      },
      "execution_count": null,
      "outputs": []
    },
    {
      "cell_type": "code",
      "source": [
        "def verif(data,Id,C,i,j,k):\n",
        "\n",
        "  \"\"\"\n",
        "  Parameters:\n",
        "    data is a matrix where each line is a chromosome\n",
        "    i number of retailers\n",
        "    j number of distributers\n",
        "    k number of plants\n",
        "    Id is a list of demand constraints for i retailers\n",
        "    C is a list of capacity constraints for k plants\n",
        "\n",
        "  \"\"\"\n",
        "\n",
        "  A,b=generate(Id,C,i,j,k)\n",
        "  if np.all(np.dot(A, data) <=b):\n",
        "    return True\n",
        "  return False\n",
        "\n"
      ],
      "metadata": {
        "id": "Rh-req-XkRGJ"
      },
      "execution_count": null,
      "outputs": []
    },
    {
      "cell_type": "markdown",
      "source": [
        "### 2.2.3 Linear Programming"
      ],
      "metadata": {
        "id": "0CZF-a8L6uXf"
      }
    },
    {
      "cell_type": "markdown",
      "source": [
        "Since the program consists of minimizing a linear function of transport cost, we can solve it using the linear programming method and compare the results of the two methods in the end."
      ],
      "metadata": {
        "id": "UzHDenajCsRh"
      }
    },
    {
      "cell_type": "code",
      "source": [
        "def pL(Id,C,c,i,j,k): #Programmation lineaire\n",
        "\n",
        "    \"\"\"\n",
        "    Parameters:\n",
        "      i is the number of retailers\n",
        "      j is the number of distributers\n",
        "      k is the number of plants\n",
        "      Id is a list of demand constraints for i retailers\n",
        "      C is a list of capacity constraints for k plants\n",
        "      c is a list of transportation costs\n",
        "\n",
        "    \"\"\"\n",
        "  c=np.array(c)\n",
        "  A,b=generate(Id,C,i,j,k)\n",
        "  bounds = [(0, None) for _ in range(c.shape[0])]\n",
        "  res = linprog(c, A_ub=A, b_ub=b, bounds=bounds)\n",
        "  return res"
      ],
      "metadata": {
        "id": "QmNwU3Frk3AC"
      },
      "execution_count": null,
      "outputs": []
    },
    {
      "cell_type": "markdown",
      "source": [
        "### 2.2.4 Fitness function and Selection of parents"
      ],
      "metadata": {
        "id": "dkn1-lmd_h7L"
      }
    },
    {
      "cell_type": "markdown",
      "source": [
        "The fitness function is minimization of distribution cost and it is\n",
        "taken directly as fitness values."
      ],
      "metadata": {
        "id": "nASkappgDEEH"
      }
    },
    {
      "cell_type": "code",
      "source": [
        "def fitness(x,coef):\n",
        "\n",
        "  \"\"\"\n",
        "  Parameters:\n",
        "    x is a chromosome\n",
        "    coef is a list of transportation costs\n",
        "\n",
        "  \"\"\"\n",
        "  return np.dot(x,coef)"
      ],
      "metadata": {
        "id": "FKkNqyhv0BU6"
      },
      "execution_count": null,
      "outputs": []
    },
    {
      "cell_type": "markdown",
      "source": [
        "Selection procedure provides an opportunity to deliver a gene of a good solution to next generation. We are going to use the **roulette wheel selection** method, considering the solution size and evaluation time.\n",
        "\n",
        "This method assigns a probability of selection to each individual in a population based on their fitness, and then performs a random selection using a spinning wheel analogy, where individuals with higher fitness have a higher chance of being selected.\n",
        "\n",
        "Here, the lower the fitness is, the better is the chromosome. So, when calculating the probability, we are going to substruct the fitness of the individual from the maximum obtained value.\n",
        "\n",
        "For example, considering two chromosomes with respective fitness of 100 and 200. The first chromosome is clearly better. The maximum value here is 200. The adjusted fitness values are now respectivly 100 and 0. The probability to select the first individual is 1 ( \\frac{100}{100+0} ) and to select the second is 0."
      ],
      "metadata": {
        "id": "OAdcRnWjDGDT"
      }
    },
    {
      "cell_type": "code",
      "source": [
        "def Selection(data):\n",
        "\n",
        "  \"\"\"\n",
        "  Parameters:\n",
        "    data is a matrix where each line is a chromosome\n",
        "\n",
        "  \"\"\"\n",
        "  p=list()\n",
        "  S=0\n",
        "  for x in data :\n",
        "    S+=fitness(x,coef)\n",
        "    p.append(fitness(x,coef))\n",
        "  mx=max(p)\n",
        "  adjusted_fitness_values = [mx - f+1 for f in p]\n",
        "  # compute the probabilities of selection for each individual\n",
        "  total_adjusted_fitness = sum(adjusted_fitness_values)\n",
        "  p = [f / total_adjusted_fitness for f in adjusted_fitness_values]\n",
        "\n",
        "  r=random.random()\n",
        "  partialsum=0\n",
        "  for i in range(len(p)):\n",
        "    partialsum+=p[i]\n",
        "    if(partialsum>=r):\n",
        "      return data[i,:]  #return the chromosome x in the position i"
      ],
      "metadata": {
        "id": "ipqxnIMQoeYd"
      },
      "execution_count": null,
      "outputs": []
    },
    {
      "cell_type": "markdown",
      "source": [
        "### 2.2.5 Crossover"
      ],
      "metadata": {
        "id": "Qj-ZuBbglAh6"
      }
    },
    {
      "cell_type": "markdown",
      "source": [
        "Crossover involves combining genetic information from two parent individuals to create offspring. It mimics the process of genetic recombination in nature, where portions of the parent chromosomes are exchanged to create new genetic combinations.\n",
        "\n",
        "This operation has a probability P<sub>c</sub> normally ranging between 0.6 and 0.9.\n",
        "\n",
        "The choice of the two parents is given by the previous step of selection based on their fitness. The Crossover in this project will be on a single crossover point, which is shown in this figure:"
      ],
      "metadata": {
        "id": "FL6Gcb_Hb4Ti"
      }
    },
    {
      "cell_type": "markdown",
      "source": [
        "![image.png](data:image/png;base64,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)"
      ],
      "metadata": {
        "id": "1qbVhUGqsPe9"
      }
    },
    {
      "cell_type": "markdown",
      "source": [
        "### <center>Figure 3: Crossover Process example</center>"
      ],
      "metadata": {
        "id": "8JgTZvxKcypy"
      }
    },
    {
      "cell_type": "code",
      "source": [
        "#This crossover function is based on one crossover point\n",
        "def crossover(parent1,parent2,i,j):\n",
        "\n",
        "  \"\"\"\n",
        "  Parameters:\n",
        "    parent1,parent2 are the selected chromosomes having the best fitness\n",
        "    i can be the number of retailers or plants\n",
        "    j number of distributers\n",
        "\n",
        "  \"\"\"\n",
        "  pc=random.uniform(0.6,0.9)\n",
        "  if random.random()>pc:\n",
        "    return parent1, parent2\n",
        "  crossover_point = i*j\n",
        "  parent1=list(parent1)\n",
        "  parent2=list(parent2)\n",
        "  child1 = parent1[:crossover_point] + parent2[crossover_point:]\n",
        "  child2 = parent2[:crossover_point] + parent1[crossover_point:]\n",
        "  child1,child2=np.array(child1),np.array(child2)\n",
        "  return child1, child2\n"
      ],
      "metadata": {
        "id": "3XjvhtyzoebD"
      },
      "execution_count": null,
      "outputs": []
    },
    {
      "cell_type": "markdown",
      "source": [
        "### 2.2.6 Mutation"
      ],
      "metadata": {
        "id": "I44Wo8djQtmH"
      }
    },
    {
      "cell_type": "markdown",
      "source": [
        "Mutation is a genetic operator that introduces small, random changes in the genetic material of an individual. It helps to maintain diversity in the population and enables the exploration of new areas in the search space, potentially leading to improved solutions.\n",
        "\n",
        "The mutation has a very low probability P<sub>m</sub> which is a random number between 0.001 and 0.01.\n",
        "\n",
        "The process of mutation is shown in the next figure. Note that the swap of the values in the chromosome should be in feasable positions."
      ],
      "metadata": {
        "id": "A64PGDvac9n7"
      }
    },
    {
      "cell_type": "markdown",
      "source": [
        "![mutu.png](data:image/png;base64,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)"
      ],
      "metadata": {
        "id": "gZCTGB4rc9cM"
      }
    },
    {
      "cell_type": "markdown",
      "source": [
        "### <center>Figure 4: Mutation Process Example</center>"
      ],
      "metadata": {
        "id": "9imMMCaic9Oe"
      }
    },
    {
      "cell_type": "code",
      "source": [
        "#This function returns a chromosome after the mutation\n",
        "\n",
        "def mutate(x,k,j,i):\n",
        "\n",
        "  \"\"\"\n",
        "  Parameters:\n",
        "    x is a chromosome\n",
        "    i number of retailers\n",
        "    j number of distributers\n",
        "    k number of plants\n",
        "\n",
        "  \"\"\"\n",
        "  pm=random.uniform(0.001,0.01)\n",
        "  if random.random()>pm:\n",
        "    return x\n",
        "  mutation_index=random.randint(0,9)\n",
        "  if mutation_index< j:\n",
        "    x[mutation_index+j],x[mutation_index]=x[mutation_index],x[mutation_index+j] #permutation in feasable position\n",
        "  elif j<=mutation_index< k*j:\n",
        "    x[mutation_index-j],x[mutation_index]=x[mutation_index],x[mutation_index-j] #permutation\n",
        "  elif mutation_index <=i*j:\n",
        "\n",
        "    x[mutation_index+i],x[mutation_index]=x[mutation_index],x[mutation_index+i] #permutation\n",
        "\n",
        "  else:\n",
        "\n",
        "    x[mutation_index-i],x[mutation_index]=x[mutation_index],x[mutation_index-i] #permutation\n",
        "  return x\n",
        ""
      ],
      "metadata": {
        "id": "arTKV24EoedU"
      },
      "execution_count": null,
      "outputs": []
    },
    {
      "cell_type": "markdown",
      "source": [
        "After the mutation, whether it happened or not, we have to insert the new children in the previous population, making sure to keep the same initial number of chromosomes in the population."
      ],
      "metadata": {
        "id": "jDXcCjDovcuj"
      }
    },
    {
      "cell_type": "code",
      "source": [
        "def insert(P1,P2,child1,child2,data,Id,C,k,j,i,coef):\n",
        "\n",
        "  \"\"\"\n",
        "  Parameters:\n",
        "    parent1,parent2 are the parents chromosomes having the best fitness\n",
        "    child1,child2 are the children chromosomes\n",
        "    i is the number of retailers\n",
        "    j is the number of distributers\n",
        "    k is the number of plants\n",
        "    Id is a list of demand constraints for i retailers\n",
        "    C is a list of capacity constraints for k plants\n",
        "    coef is a list of transportation costs\n",
        "    data is a matrix where each line is a chromosome\n",
        "\n",
        "   \"\"\"\n",
        "\n",
        "  if (verif(child1,Id,C,k,j,i)==True and fitness(P1,coef)>=fitness(child1,coef)):\n",
        "    data=np.vstack((data,child1))\n",
        "\n",
        "  if (verif(child2,Id,C,k,j,i)==True and fitness(P2,coef)>=fitness(child2,coef)):\n",
        "    data=np.vstack((data,child2))\n",
        "\n",
        "  return data\n"
      ],
      "metadata": {
        "id": "mvgjDVFGoegg"
      },
      "execution_count": null,
      "outputs": []
    },
    {
      "cell_type": "markdown",
      "source": [
        "#3. Numerical Illustration and Results"
      ],
      "metadata": {
        "id": "ExXjAP_XXv8s"
      }
    },
    {
      "cell_type": "markdown",
      "source": [
        "Now, we are going to test the whole algorithm on the same previous example consisiting of 2 plants, 2 distributers and 3 retailers. The capacity constraints of the two plants is [150000,150000] , and the demand constraints for the retailers is [50000,100000,50000].\n",
        "\n",
        "The number of generations is considered as a termination criterion\n",
        "in this application and the user could vary it. The program is made to run till the number of iteration becomes equal to the present maximum number as termination criteria (Nchr)."
      ],
      "metadata": {
        "id": "GYXHf6J3supb"
      }
    },
    {
      "cell_type": "code",
      "source": [
        "#Initial population\n",
        "\n",
        "data=np.empty((0,10))\n",
        "L=[]\n",
        "C=np.array([150000,50000])\n",
        "Id=np.array([50000,100000,50000])\n",
        "k=2 # nbr of plants\n",
        "j=2 # nbr of distributers\n",
        "i=3 # nbr of retailers\n",
        "Nchr=1000 # Normally Nchr should be no less than 2*(k*j+j*i +1)\n",
        "nbrmax=1000\n",
        "while True:\n",
        "  while True:\n",
        "    data1=np.concatenate((genL(k,j,C),genL2(j,i,Id)))\n",
        "    C=np.array([150000,50000])\n",
        "    Id=np.array([50000,100000,50000])\n",
        "    if verif(data1,Id,C,k,j,i)==True:\n",
        "      break\n",
        "  data=np.vstack((data,data1))\n",
        "  data=np.unique(data,axis=0)\n",
        "  if data.shape[0]==Nchr:\n",
        "    break\n",
        "\n",
        "compteur=0\n",
        "coef=np.array([0,5,4,2,3,4,5,2,1,2])\n",
        "# data=np.vstack((np.array([150000.,      0.,      0.,  50000.,      0.,      0.,      0.,\n",
        "#          50000., 100000.,  50000.]),data))\n",
        "\n",
        "# data=np.vstack((data,np.array([[0 ,0, 50000 ,150000 ,0 ,0 ,50000 ,50000 ,100000 ,0],[\n",
        "# 50000 ,150000 ,0 ,0 ,19169 ,15724 ,15107 ,30831 ,84276 ,34893 ],[\n",
        "# 50000 ,150000 ,0 ,0 ,26962 ,1426 ,21612 ,23038 ,98574 ,28388 ],[\n",
        "# 0, 0 ,50000 ,150000 ,0, 0 ,50000 ,50000 ,100000 ,0 ],[\n",
        "# 0, 0 ,50000 ,150000 ,0, 0, 50000, 50000 ,100000 ,0 ],[\n",
        "# 0 ,0, 50000, 150000, 0 ,0 ,50000, 50000, 100000 ,0 ],[\n",
        "# 0, 0, 50000 ,150000, 4827 ,5436 ,39737 ,45173 ,94564 ,10263 ],[\n",
        "# 0 ,0 ,50000 ,150000 ,3902 ,153, 45945 ,46098 ,99847 ,4055 ],[\n",
        "# 50000, 150000, 0, 0, 17421 ,18716, 13863 ,32579 ,81284 ,36137 ],[\n",
        "# 50000 ,150000, 0, 0, 0, 0, 50000 ,50000 ,100000 ,0 ] ]\n",
        "\n",
        "#  )))\n",
        "\n",
        "while True:\n",
        "  compteur+=1\n",
        "\n",
        "  #Perform the selection of the 2 parents\n",
        "  P1=Selection(data)\n",
        "  while True:\n",
        "    P2=Selection(data)\n",
        "    if np.all(P2!=P1):\n",
        "      break\n",
        "\n",
        "\n",
        "  #Getting the new children\n",
        "  child1,child2=crossover(P1,P2,k,j)\n",
        "  child1=mutate(child1,k,j,i)\n",
        "  child2=mutate(child2,k,j,i)\n",
        "\n",
        "  data=insert(P1,P2,child1,child2,data,Id,C,k,j,i,coef)     #Inserting the child into the new population\n",
        "  data=np.unique(data,axis=0)\n",
        "\n",
        "  f_values = [fitness(row, coef) for row in data]           #Evaluating the fitness of each chromosome in order to sort the data\n",
        "\n",
        "  sorted_indices = np.argsort(f_values)\n",
        "  sorted_data = data[sorted_indices]\n",
        "  data=sorted_data[:Nchr,:]\n",
        "\n",
        "  L.append(fitness(data[0,:],coef))\n",
        "\n",
        "  if compteur>=nbrmax:\n",
        "    break\n",
        "data[0,:]"
      ],
      "metadata": {
        "id": "Mnx4GRgcXx4C",
        "colab": {
          "base_uri": "https://localhost:8080/"
        },
        "outputId": "ef1d6ebb-0f53-43ac-e911-e93a69a476a7"
      },
      "execution_count": null,
      "outputs": [
        {
          "output_type": "execute_result",
          "data": {
            "text/plain": [
              "array([149743.,    257.,   1253.,  48747.,  18490.,   4245.,   2774.,\n",
              "        31510.,  95755.,  47226.])"
            ]
          },
          "metadata": {},
          "execution_count": 329
        }
      ]
    },
    {
      "cell_type": "code",
      "source": [
        "s=pL(Id,C,coef,k,j,i)\n",
        "s.x"
      ],
      "metadata": {
        "id": "auX7YHZTrrlP",
        "colab": {
          "base_uri": "https://localhost:8080/"
        },
        "outputId": "f35683c6-ab71-4ed8-e17b-82062e61ed88"
      },
      "execution_count": null,
      "outputs": [
        {
          "output_type": "execute_result",
          "data": {
            "text/plain": [
              "array([150000.,      0.,      0.,  50000.,      0.,      0.,      0.,\n",
              "        50000., 100000.,  50000.])"
            ]
          },
          "metadata": {},
          "execution_count": 330
        }
      ]
    },
    {
      "cell_type": "markdown",
      "source": [
        "As we can see here, the two results of the GA and the Linear Programming are very close. The reason why we don't reach the exact solution is due to the random generation of the population."
      ],
      "metadata": {
        "id": "TwJELc8XtuW5"
      }
    },
    {
      "cell_type": "code",
      "source": [
        "s.fun"
      ],
      "metadata": {
        "id": "_snqNbfBvskH",
        "colab": {
          "base_uri": "https://localhost:8080/"
        },
        "outputId": "5566689e-2e10-464c-e394-2952dc677639"
      },
      "execution_count": null,
      "outputs": [
        {
          "output_type": "execute_result",
          "data": {
            "text/plain": [
              "400000.0"
            ]
          },
          "metadata": {},
          "execution_count": 331
        }
      ]
    },
    {
      "cell_type": "code",
      "source": [
        "fitness(data[0,:],coef)"
      ],
      "metadata": {
        "id": "qYC4sCuUwoPp",
        "colab": {
          "base_uri": "https://localhost:8080/"
        },
        "outputId": "cbed9f7a-f9a9-44d4-cf58-2642620027f1"
      },
      "execution_count": null,
      "outputs": [
        {
          "output_type": "execute_result",
          "data": {
            "text/plain": [
              "443338.0"
            ]
          },
          "metadata": {},
          "execution_count": 332
        }
      ]
    },
    {
      "cell_type": "markdown",
      "source": [
        "As for the minimum cost found by our GA, we can see that it is also very close to the exact solution."
      ],
      "metadata": {
        "id": "azj5_QmIuG9h"
      }
    },
    {
      "cell_type": "code",
      "source": [
        "data"
      ],
      "metadata": {
        "colab": {
          "base_uri": "https://localhost:8080/"
        },
        "id": "CZ5v2Fjy8vkW",
        "outputId": "c10a2ecf-c1ac-40b1-d81c-bd1b286b74b0"
      },
      "execution_count": null,
      "outputs": [
        {
          "output_type": "execute_result",
          "data": {
            "text/plain": [
              "array([[149743.,    257.,   1253., ...,  31510.,  95755.,  47226.],\n",
              "       [149743.,    257.,   1253., ...,  29600.,  94748.,  47172.],\n",
              "       [146282.,   3718.,   4183., ...,  37104.,  95427.,  49928.],\n",
              "       ...,\n",
              "       [ 95848.,  54152.,  37280., ...,  20746.,  69998.,  21514.],\n",
              "       [125152.,  24848.,  47045., ...,  37036.,   2440.,  41203.],\n",
              "       [107023.,  42977.,    862., ...,  47707.,   7854.,  31615.]])"
            ]
          },
          "metadata": {},
          "execution_count": 333
        }
      ]
    },
    {
      "cell_type": "code",
      "source": [
        "t=np.linspace(0,compteur,compteur)\n",
        "plt.plot(t,L)\n",
        "plt.show()"
      ],
      "metadata": {
        "id": "VqLve0sa9lUf",
        "colab": {
          "base_uri": "https://localhost:8080/",
          "height": 430
        },
        "outputId": "4d7d13e4-4c8c-4eab-9de2-ab0a9bc6fdc8"
      },
      "execution_count": null,
      "outputs": [
        {
          "output_type": "display_data",
          "data": {
            "text/plain": [
              "<Figure size 640x480 with 1 Axes>"
            ],
            "image/png": "[encoded data removed]"
          },
          "metadata": {}
        }
      ]
    },
    {
      "cell_type": "markdown",
      "source": [
        "This figure above shows the value of the fitness decreasing by the number of iterations."
      ],
      "metadata": {
        "id": "zlf5KBEuuWmT"
      }
    },
    {
      "cell_type": "markdown",
      "source": [
        "#Conclusion"
      ],
      "metadata": {
        "id": "vSZCvq6n_Vhq"
      }
    },
    {
      "cell_type": "markdown",
      "source": [
        "In conclusion, this project has demonstrated the effectiveness of using Genetic Algorithms to solve  a two-echelon supply chain optimization problem. Additionally, this project has demonstrated the efficiency of Genetic Algorithms even when the numbers of plants, distributors, and retailers are increased. Given the algorithm's efficiency in these contexts, it holds promising potential for tackling even more complex challenges like Multi-echelon supply chains.\n"
      ],
      "metadata": {
        "id": "xAKkGlkE64w_"
      }
    }
  ]
}